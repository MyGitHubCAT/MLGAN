{
 "cells": [
  {
   "cell_type": "code",
   "execution_count": null,
   "id": "5a1413cf",
   "metadata": {},
   "outputs": [],
   "source": [
    "import os\n",
    "import pandas as pd\n",
    "import numpy as np\n",
    "import tensorflow as tf\n",
    "import spektral\n",
    "import matplotlib.pyplot as plt\n",
    "import math\n",
    "import scipy.sparse as sp\n",
    "import random\n",
    "import time\n",
    "\n",
    "import warnings\n",
    "warnings.filterwarnings('ignore')\n",
    "\n",
    "import model\n",
    "import func\n",
    "import MLGAN_L5"
   ]
  },
  {
   "cell_type": "code",
   "execution_count": null,
   "id": "6977c0a5",
   "metadata": {},
   "outputs": [],
   "source": [
    "env = func.env"
   ]
  },
  {
   "cell_type": "code",
   "execution_count": null,
   "id": "1508ddf0",
   "metadata": {},
   "outputs": [],
   "source": [
    "st_dataset_normal,datamean,datastd = func.convertdataset_workday_weekend(env.path)\n",
    "wrkd_dataset,wekd_dataset=func.split_workdayandweekend(st_dataset_normal)\n",
    "adj = func.giveadj(env.adj_csvpath)\n",
    "env.setadj(adj)\n",
    "maskmatrixes = func.Maskmatrixes(env.rmdir)"
   ]
  },
  {
   "cell_type": "code",
   "execution_count": null,
   "id": "24a4b8b5",
   "metadata": {},
   "outputs": [],
   "source": [
    "mmdata = []\n",
    "for i in env.missingrate:    \n",
    "    mmdata.append(maskmatrixes[env.RandNUMS*i:env.RandNUMS*(i+1)])#mmdata为19个缺失区间的掩码矩阵组\n",
    "    #mmdata.append(maskmatrixes[2*RandNUMS*i:2*RandNUMS*(i+1)])\n",
    "#将\n",
    "\n",
    "combvals = []#\n",
    "tolcomvvals = []#\n",
    "origin_dataset = wrkd_dataset[slice(int(0.95*len(wrkd_dataset)),-1)]#\n",
    "#origin_dataset = wrkd_dataset[slice(int(0.85*len(wrkd_dataset)),int(0.95*len(wrkd_dataset)))]#目标数据集类型，分为周末或工作日\n",
    "for i in mmdata:   \n",
    "    RandNUMS_dataset = origin_dataset\n",
    "    combval = []\n",
    "    toldata = []\n",
    "    tolmm = []\n",
    "    for j in origin_dataset:\n",
    "        for p in i:  \n",
    "            k = np.expand_dims(j,axis=0)\n",
    "            p = np.expand_dims(p,axis=0)\n",
    "            combval.append((k,p))\n",
    "            toldata.append(k)\n",
    "            tolmm.append(p)\n",
    "    tolcomdata = np.concatenate(toldata,axis=0)\n",
    "    tolcommm = np.concatenate(tolmm,axis=0)\n",
    "    tolcomvvals.append((tolcomdata,tolcommm))\n",
    "    combvals.append(combval)\n",
    "#combvals （origindata，mask）"
   ]
  },
  {
   "cell_type": "code",
   "execution_count": null,
   "id": "f8090b0c",
   "metadata": {},
   "outputs": [],
   "source": [
    "inptest=combvals[18][0]\n",
    "inptest"
   ]
  },
  {
   "cell_type": "code",
   "execution_count": null,
   "id": "80b4148f",
   "metadata": {},
   "outputs": [],
   "source": [
    "#load weight \n",
    "M5genl1 = model.Layer1MLGAN(env.timescale,env.spatialscale)\n",
    "M5genl2 = model.Layer2MLGAN(env.timescale,env.spatialscale)\n",
    "M5genl3 = model.Layer3MLGAN(env.timescale,env.spatialscale)\n",
    "M5genl4 = model.Layer4MLGAN(env.timescale,env.spatialscale)\n",
    "M5genl5 = model.Layer5MLGAN(env.timescale,env.spatialscale)\n",
    "M5L1model  = model.MLGANcorrection(M5genl1)\n",
    "M5L1model(inptest,env.ADJMatrix)#\n",
    "M5L2model  = model.MLGANcorrection(M5genl2)\n",
    "M5L2model(inptest,env.ADJMatrix)\n",
    "M5L3model  = model.MLGANcorrection(M5genl3)\n",
    "M5L3model(inptest,env.ADJMatrix)\n",
    "M5L4model  = model.MLGANcorrection(M5genl4)\n",
    "M5L4model(inptest,env.ADJMatrix)\n",
    "M5L5model  = model.MLGANcorrection(M5genl5)\n",
    "M5L5model(inptest,env.ADJMatrix)\n",
    "\n",
    "M5L1model.load_weights(os.path.join(env.codepath,'MLGAN_Data\\modelweight\\L5GAN_NEW\\corlayer1forM5\\cor_wight'))\n",
    "M5L2model.load_weights(os.path.join(env.codepath,'MLGAN_Data\\modelweight\\L5GAN_NEW\\corlayer2forM5\\cor_wight'))\n",
    "M5L3model.load_weights(os.path.join(env.codepath,'MLGAN_Data\\modelweight\\L5GAN_NEW\\corlayer3forM5\\cor_wight'))\n",
    "M5L4model.load_weights(os.path.join(env.codepath,'MLGAN_Data\\modelweight\\L5GAN_NEW\\corlayer4forM5\\cor_wight'))\n",
    "M5L5model.load_weights(os.path.join(env.codepath,'MLGAN_Data\\modelweight\\L5GAN_NEW\\corlayer5forM5\\cor_wight'))\n",
    "\n"
   ]
  },
  {
   "cell_type": "code",
   "execution_count": null,
   "id": "228b5f79",
   "metadata": {},
   "outputs": [],
   "source": [
    "calmodel = MLGAN_L5.MLGAN(M5L1model,M5L2model,M5L3model,M5L4model,M5L5model)\n",
    "_=calmodel(inptest,env.ADJMatrix)"
   ]
  },
  {
   "cell_type": "code",
   "execution_count": null,
   "id": "7b6eceaf",
   "metadata": {},
   "outputs": [],
   "source": [
    "origdata,_=inptest\n",
    "origdata*datastd+datamean"
   ]
  },
  {
   "cell_type": "code",
   "execution_count": null,
   "id": "87af919d",
   "metadata": {},
   "outputs": [],
   "source": [
    "calmodel(inptest,env.ADJMatrix)*datastd+datamean"
   ]
  },
  {
   "cell_type": "code",
   "execution_count": null,
   "id": "b2734684",
   "metadata": {},
   "outputs": [],
   "source": [
    "def calcompareddata(ratioindex):\n",
    "    \n",
    "    calvals = tolcomvvals[ratioindex]\n",
    "    caldata,calmm=calvals \n",
    "\n",
    "    oridata = (caldata*datastd + datamean).astype(np.int)\n",
    "\n",
    "    resdata = None\n",
    "    with tf.device('/CPU:0'):\n",
    "        resdata = calmodel(calvals,env.ADJMatrix).numpy()\n",
    "    \n",
    "    cordata = resdata*(1-calmm) + caldata *calmm\n",
    "\n",
    "    impdata = (cordata*datastd + datamean).astype(np.int)\n",
    "    return oridata,impdata,calmm"
   ]
  },
  {
   "cell_type": "code",
   "execution_count": null,
   "id": "d37e0a05",
   "metadata": {},
   "outputs": [],
   "source": [
    "df=pd.DataFrame(columns=['MAE','RMSE'])\n",
    "for i in range(19):\n",
    "    ori,imp,mm = calcompareddata(i)    \n",
    "    newloc = func.returnloss(ori,imp,mm)\n",
    "    print(newloc)\n",
    "    df.loc[i+1]= newloc\n",
    "df"
   ]
  },
  {
   "cell_type": "code",
   "execution_count": null,
   "id": "deb39990",
   "metadata": {},
   "outputs": [],
   "source": [
    "#draw pic for data imputation\n",
    "drawindex =18#missing rate\n",
    "mmindex=8\n",
    "\n",
    "inpdraw = combvals[drawindex][mmindex]\n",
    "origdata_draw,mm_draw=inpdraw \n",
    "\n",
    "\n",
    "#\n",
    "Z_draw =np.sum(origdata_draw,axis=0)\n",
    "mm_draw = np.sum(mm_draw,axis=0)\n",
    "index_sort=np.argsort(Z_draw.sum(axis=0))\n",
    "\n",
    "#\n",
    "Z_mask = Z_draw * mm_draw\n",
    "\n",
    "#\n",
    "Z_imp = calmodel(inpdraw,env.ADJMatrix)*(1-mm_draw) + Z_draw * mm_draw\n",
    "Z_imp  = np.sum(Z_imp ,axis=0)\n",
    "Z_gen = calmodel.activegan(inpdraw,env.ADJMatrix)\n",
    "Z_gen =  np.sum(Z_gen ,axis=0)\n",
    "\n",
    "#\n",
    "Z_sort =Z_draw[:,index_sort]*datastd+datamean\n",
    "Z_mask_sort =Z_mask[:,index_sort]*datastd+mm_draw[:,index_sort]*datamean\n",
    "Z_imp_sort =Z_imp[:,index_sort]*datastd+datamean\n",
    "Z_gen_sort = Z_gen[:,index_sort]*datastd+datamean\n",
    "\n",
    "#\n",
    "x = np.arange(0,Z_draw.shape[0],1)\n",
    "y = np.arange(0,Z_draw.shape[1],1)"
   ]
  },
  {
   "cell_type": "code",
   "execution_count": null,
   "id": "b3c73a62",
   "metadata": {},
   "outputs": [],
   "source": [
    "#Data imputation in the time dimension\n",
    "\n",
    "timedim=45\n",
    "tdim2x = np.arange(Z_sort.shape[0])\n",
    "tdim2xmm = mm_draw[:,index_sort][:,timedim]\n",
    "#tdim2xmm = np.array(tdim2xmm,dtype='int')\n",
    "observed_time =np.where(tdim2xmm!=0)\n",
    "imp_time = np.where(tdim2xmm == 0)\n",
    "plt.figure(figsize=(14,6))\n",
    "\n",
    "\n",
    "#plt.plot(dim2x,Z_mask_sort[:,timedim])\n",
    "plt.plot(tdim2x,Z_sort[:,timedim],linewidth =1.2,label='origin data')\n",
    "\n",
    "plt.scatter(tdim2x[imp_time],Z_sort[:,timedim][imp_time],marker = 'v',s=45,color = 'red',label='missing data',linewidths=2)\n",
    "#plt.plot(tdim2x[imp_time],Z_sort[:,timedim][imp_time],label='missing data',linestyle='--',color = 'green',linewidth=2)\n",
    "\n",
    "#plt.plot(tdim2x[imp_time],Z_imp_sort[:,timedim][imp_time],linewidth =2,color = 'blue',label='synthetic data')\n",
    "plt.scatter(tdim2x[imp_time],Z_imp_sort[:,timedim][imp_time],marker = 'x',s=65,color = 'blue',label='synthetic data',linewidths=1.5)\n",
    "\n",
    "#plt.scatter(tdim2x[observed_time],Z_sort[:,timedim][observed_time],marker = 'v',s=64,label='observed data')\n",
    "plt.legend(fontsize = 20)\n",
    "plt.yticks(fontsize=24,fontproperties = 'Times New Roman')\n",
    "plt.xticks(fontsize=24,fontproperties = 'Times New Roman')\n",
    "plt.show()"
   ]
  },
  {
   "cell_type": "code",
   "execution_count": null,
   "id": "99fd5899",
   "metadata": {},
   "outputs": [],
   "source": [
    "#Data imputation in the space dimension\n",
    "\n",
    "spadim=11\n",
    "tdim2y = np.arange(Z_sort.shape[1])\n",
    "tdim2ymm = mm_draw[:,index_sort][spadim,:]\n",
    "#tdim2xmm = np.array(tdim2xmm,dtype='int')\n",
    "observed_sensor =np.where(tdim2ymm!=0)\n",
    "imp_sensor = np.where(tdim2ymm == 0)\n",
    "plt.figure(figsize=(24,8))\n",
    "\n",
    "plt.scatter(tdim2y[imp_sensor],Z_imp_sort[spadim,:][imp_sensor],marker = 'x',s=64,label='synthetic data',linewidths=3)\n",
    "plt.plot(tdim2y[imp_sensor],Z_imp_sort[spadim,:][imp_sensor],linestyle='--',linewidth =3,label='synthetic data')\n",
    "#plt.scatter(tdim2y[imp_sensor],Z_sort[spadim,:][imp_sensor],marker = '+',s=128,label='missing data',linewidths=2)\n",
    "#plt.plot(dim2x,Z_mask_sort[:,timedim])\n",
    "#plt.plot(tdim2y,Z_sort[spadim,:])\n",
    "plt.plot(tdim2y,Z_sort[spadim,:],linewidth =2,label='missing data')\n",
    "#plt.scatter(tdim2y[observed_sensor],Z_sort[spadim,:][observed_sensor],marker = 'o',s=36,label='observed data')\n",
    "plt.legend(fontsize = 24)\n",
    "plt.yticks(fontsize=24)\n",
    "plt.xticks(fontsize=24)\n",
    "plt.show()"
   ]
  },
  {
   "cell_type": "code",
   "execution_count": null,
   "id": "c0eb809f",
   "metadata": {},
   "outputs": [],
   "source": [
    "#origin data\n",
    "from mpl_toolkits.mplot3d import Axes3D\n",
    "fig=plt.figure(figsize=(8,8))\n",
    "#ax = fig.gca(projection='3d')\n",
    "ax = fig.add_axes(Axes3D(fig))\n",
    "X, Y = np.meshgrid(y, x)\n",
    "ax.plot_surface(X, Y, Z_sort,cmap='viridis')\n",
    "ax.tick_params(axis='both',labelsize=16)\n",
    "plt.show()"
   ]
  },
  {
   "cell_type": "code",
   "execution_count": null,
   "id": "fec4308c",
   "metadata": {},
   "outputs": [],
   "source": [
    "#destroyed data based on mask\n",
    "fig=plt.figure(figsize=(8,8))\n",
    "ax = fig.add_axes(Axes3D(fig))\n",
    "X, Y = np.meshgrid(y, x)\n",
    "ax.plot_surface(X, Y, Z_mask_sort,cmap='viridis')\n",
    "ax.tick_params(axis='both',labelsize=16)\n",
    "plt.show()"
   ]
  },
  {
   "cell_type": "code",
   "execution_count": null,
   "id": "7d416317",
   "metadata": {},
   "outputs": [],
   "source": [
    "#data from gan module\n",
    "fig=plt.figure(figsize=(8,8))\n",
    "ax = fig.add_axes(Axes3D(fig))\n",
    "X, Y = np.meshgrid(y, x)\n",
    "ax.plot_surface(X, Y, Z_gen_sort,cmap='viridis')\n",
    "plt.show()"
   ]
  },
  {
   "cell_type": "code",
   "execution_count": null,
   "id": "44befb29",
   "metadata": {},
   "outputs": [],
   "source": [
    "#restored data from MLGAN\n",
    "fig=plt.figure(figsize=(8,8))\n",
    "ax = fig.add_axes(Axes3D(fig))\n",
    "X, Y = np.meshgrid(y, x)\n",
    "ax.plot_surface(X, Y, Z_imp_sort,cmap='viridis')\n",
    "ax.tick_params(axis='both',labelsize=16)\n",
    "plt.show()"
   ]
  },
  {
   "cell_type": "code",
   "execution_count": null,
   "id": "a2e2a889",
   "metadata": {},
   "outputs": [],
   "source": []
  }
 ],
 "metadata": {
  "kernelspec": {
   "display_name": "Python 3 (ipykernel)",
   "language": "python",
   "name": "python3"
  },
  "language_info": {
   "codemirror_mode": {
    "name": "ipython",
    "version": 3
   },
   "file_extension": ".py",
   "mimetype": "text/x-python",
   "name": "python",
   "nbconvert_exporter": "python",
   "pygments_lexer": "ipython3",
   "version": "3.10.9"
  }
 },
 "nbformat": 4,
 "nbformat_minor": 5
}
